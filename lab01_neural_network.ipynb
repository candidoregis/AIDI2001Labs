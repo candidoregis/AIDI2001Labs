{
 "cells": [
  {
   "cell_type": "code",
   "execution_count": null,
   "id": "4f767a1c",
   "metadata": {},
   "outputs": [],
   "source": [
    "# LAB01 - AIDI2001\n",
    "# Candido Regis - 1010217888"
   ]
  },
  {
   "cell_type": "code",
   "execution_count": 1,
   "id": "ec8f903a",
   "metadata": {},
   "outputs": [],
   "source": [
    "# Importing necessaru libraries\n",
    "import numpy as np \n",
    "import matplotlib.pyplot as plt"
   ]
  },
  {
   "cell_type": "code",
   "execution_count": 2,
   "id": "8a95ba20",
   "metadata": {},
   "outputs": [],
   "source": [
    "# Creating a sample size\n",
    "sample_size = 10"
   ]
  },
  {
   "cell_type": "code",
   "execution_count": 3,
   "id": "e3972a63",
   "metadata": {},
   "outputs": [],
   "source": [
    "# Generating random data\n",
    "n_rooms = np.random.randint(1,6,sample_size)\n",
    "n_wrooms = np.random.randint(1,4,sample_size)"
   ]
  },
  {
   "cell_type": "code",
   "execution_count": 4,
   "id": "d9103e59",
   "metadata": {},
   "outputs": [
    {
     "data": {
      "text/plain": [
       "array([3, 1, 3, 5, 2, 4, 4, 5, 2, 5])"
      ]
     },
     "execution_count": 4,
     "metadata": {},
     "output_type": "execute_result"
    }
   ],
   "source": [
    "# Display the data for n_rooms\n",
    "n_rooms"
   ]
  },
  {
   "cell_type": "code",
   "execution_count": 5,
   "id": "361ad986",
   "metadata": {},
   "outputs": [
    {
     "data": {
      "text/plain": [
       "array([1, 3, 3, 1, 1, 2, 2, 3, 1, 3])"
      ]
     },
     "execution_count": 5,
     "metadata": {},
     "output_type": "execute_result"
    }
   ],
   "source": [
    "# Display the data for n_wrooms\n",
    "n_wrooms"
   ]
  },
  {
   "cell_type": "code",
   "execution_count": 6,
   "id": "12100201",
   "metadata": {},
   "outputs": [],
   "source": [
    "# Determining the weights\n",
    "w1_fixed = 5.8\n",
    "w2_fixed = 2.1"
   ]
  },
  {
   "cell_type": "code",
   "execution_count": 7,
   "id": "e680b946",
   "metadata": {},
   "outputs": [],
   "source": [
    "# Generating random data for the price\n",
    "price = w1_fixed * n_rooms + w2_fixed * n_wrooms"
   ]
  },
  {
   "cell_type": "code",
   "execution_count": 8,
   "id": "ca5b45de",
   "metadata": {},
   "outputs": [
    {
     "data": {
      "text/plain": [
       "array([19.5, 12.1, 23.7, 31.1, 13.7, 27.4, 27.4, 35.3, 13.7, 35.3])"
      ]
     },
     "execution_count": 8,
     "metadata": {},
     "output_type": "execute_result"
    }
   ],
   "source": [
    "# Display the data for the price\n",
    "price"
   ]
  },
  {
   "cell_type": "code",
   "execution_count": 9,
   "id": "02a7d27c",
   "metadata": {},
   "outputs": [],
   "source": [
    "# Generating a random initial weight \n",
    "w1 = 10.5\n",
    "w2 = 6.3"
   ]
  },
  {
   "cell_type": "code",
   "execution_count": 10,
   "id": "c7ae18b0",
   "metadata": {},
   "outputs": [],
   "source": [
    "LR = 0.01"
   ]
  },
  {
   "cell_type": "code",
   "execution_count": 11,
   "id": "f02a9d49",
   "metadata": {},
   "outputs": [],
   "source": [
    "#  Creating a list to store the costs\n",
    "costs = []"
   ]
  },
  {
   "cell_type": "code",
   "execution_count": 123,
   "id": "9ab8e004",
   "metadata": {},
   "outputs": [
    {
     "name": "stdout",
     "output_type": "stream",
     "text": [
      "0.23971191457582028\n"
     ]
    },
    {
     "data": {
      "text/plain": [
       "[<matplotlib.lines.Line2D at 0x16c00a4e0>]"
      ]
     },
     "execution_count": 123,
     "metadata": {},
     "output_type": "execute_result"
    },
    {
     "data": {
      "image/png": "[encoded data removed]",
      "text/plain": [
       "<Figure size 640x480 with 1 Axes>"
      ]
     },
     "metadata": {},
     "output_type": "display_data"
    }
   ],
   "source": [
    "# Generating the y_hat calculation\n",
    "y_hat = w1 * n_rooms + w2 * n_wrooms\n",
    "# Calculating the cost based on the sum of the squared errors divided by the sample size\n",
    "cost = sum((price - y_hat) ** 2)/sample_size\n",
    "# Inserting the cost in the list\n",
    "costs.append(cost)\n",
    "# Calculating the weights\n",
    "w1 = w1 - LR*sum((price - y_hat) * (-n_rooms))/sample_size\n",
    "w2 = w2 - LR*sum((price - y_hat) * (-n_wrooms))/sample_size\n",
    "# Printing the cost \n",
    "print(cost)\n",
    "# Plotting the costs list\n",
    "plt.plot(costs)"
   ]
  },
  {
   "cell_type": "code",
   "execution_count": 124,
   "id": "b5d75da5",
   "metadata": {},
   "outputs": [
    {
     "data": {
      "text/plain": [
       "(5.8, 2.1)"
      ]
     },
     "execution_count": 124,
     "metadata": {},
     "output_type": "execute_result"
    }
   ],
   "source": [
    "# Displaying the inital weights\n",
    "w1_fixed, w2_fixed"
   ]
  },
  {
   "cell_type": "code",
   "execution_count": 125,
   "id": "f3123778",
   "metadata": {},
   "outputs": [
    {
     "data": {
      "text/plain": [
       "(5.548160578498942, 2.5502611850580466)"
      ]
     },
     "execution_count": 125,
     "metadata": {},
     "output_type": "execute_result"
    }
   ],
   "source": [
    "# Displaying the final weights\n",
    "w1, w2"
   ]
  }
 ],
 "metadata": {
  "kernelspec": {
   "display_name": "base",
   "language": "python",
   "name": "python3"
  },
  "language_info": {
   "codemirror_mode": {
    "name": "ipython",
    "version": 3
   },
   "file_extension": ".py",
   "mimetype": "text/x-python",
   "name": "python",
   "nbconvert_exporter": "python",
   "pygments_lexer": "ipython3",
   "version": "3.12.7"
  }
 },
 "nbformat": 4,
 "nbformat_minor": 5
}
