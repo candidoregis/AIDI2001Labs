{
 "cells": [
  {
   "cell_type": "code",
   "execution_count": null,
   "id": "4f767a1c",
   "metadata": {},
   "outputs": [],
   "source": [
    "# LAB01 - AIDI2001\n",
    "# Candido Regis - 1010217888"
   ]
  },
  {
   "cell_type": "code",
   "execution_count": 1,
   "id": "ec8f903a",
   "metadata": {},
   "outputs": [],
   "source": [
    "import numpy as np \n",
    "import matplotlib.pyplot as plt"
   ]
  },
  {
   "cell_type": "code",
   "execution_count": 2,
   "id": "8a95ba20",
   "metadata": {},
   "outputs": [],
   "source": [
    "sample_size = 10"
   ]
  },
  {
   "cell_type": "code",
   "execution_count": 4,
   "id": "e3972a63",
   "metadata": {},
   "outputs": [],
   "source": [
    "n_rooms = np.random.randint(1,6,sample_size)\n",
    "n_wrooms = np.random.randint(1,4,sample_size)"
   ]
  },
  {
   "cell_type": "code",
   "execution_count": 5,
   "id": "d9103e59",
   "metadata": {},
   "outputs": [
    {
     "data": {
      "text/plain": [
       "array([3, 5, 3, 1, 4, 2, 3, 1, 5, 4])"
      ]
     },
     "execution_count": 5,
     "metadata": {},
     "output_type": "execute_result"
    }
   ],
   "source": [
    "n_rooms"
   ]
  },
  {
   "cell_type": "code",
   "execution_count": 6,
   "id": "361ad986",
   "metadata": {},
   "outputs": [
    {
     "data": {
      "text/plain": [
       "array([2, 1, 2, 3, 2, 3, 2, 1, 2, 3])"
      ]
     },
     "execution_count": 6,
     "metadata": {},
     "output_type": "execute_result"
    }
   ],
   "source": [
    "n_wrooms"
   ]
  },
  {
   "cell_type": "code",
   "execution_count": 7,
   "id": "12100201",
   "metadata": {},
   "outputs": [],
   "source": [
    "w1_fixed = 5.8\n",
    "w2_fixed = 2.1"
   ]
  },
  {
   "cell_type": "code",
   "execution_count": 8,
   "id": "e680b946",
   "metadata": {},
   "outputs": [],
   "source": [
    "price = w1_fixed * n_rooms + w2_fixed * n_wrooms"
   ]
  },
  {
   "cell_type": "code",
   "execution_count": 9,
   "id": "ca5b45de",
   "metadata": {},
   "outputs": [
    {
     "data": {
      "text/plain": [
       "array([21.6, 31.1, 21.6, 12.1, 27.4, 17.9, 21.6,  7.9, 33.2, 29.5])"
      ]
     },
     "execution_count": 9,
     "metadata": {},
     "output_type": "execute_result"
    }
   ],
   "source": [
    "price"
   ]
  },
  {
   "cell_type": "code",
   "execution_count": 10,
   "id": "02a7d27c",
   "metadata": {},
   "outputs": [],
   "source": [
    "w1 = 10.5\n",
    "w2 = 6.3"
   ]
  },
  {
   "cell_type": "code",
   "execution_count": 11,
   "id": "c7ae18b0",
   "metadata": {},
   "outputs": [],
   "source": [
    "LR = 0.01"
   ]
  },
  {
   "cell_type": "code",
   "execution_count": 12,
   "id": "f02a9d49",
   "metadata": {},
   "outputs": [],
   "source": [
    "costs = []"
   ]
  },
  {
   "cell_type": "code",
   "execution_count": 113,
   "id": "9ab8e004",
   "metadata": {},
   "outputs": [
    {
     "name": "stdout",
     "output_type": "stream",
     "text": [
      "0.16426286710496044\n"
     ]
    },
    {
     "data": {
      "text/plain": [
       "[<matplotlib.lines.Line2D at 0x145de8200>]"
      ]
     },
     "execution_count": 113,
     "metadata": {},
     "output_type": "execute_result"
    },
    {
     "data": {
      "image/png": "[encoded data removed]",
      "text/plain": [
       "<Figure size 640x480 with 1 Axes>"
      ]
     },
     "metadata": {},
     "output_type": "display_data"
    }
   ],
   "source": [
    "y_hat = w1 * n_rooms + w2 * n_wrooms\n",
    "cost = sum((price - y_hat) ** 2)/sample_size\n",
    "costs.append(cost)\n",
    "w1 = w1 - LR*sum((price - y_hat) * (-n_rooms))/sample_size\n",
    "w2 = w2 - LR*sum((price - y_hat) * (-n_wrooms))/sample_size\n",
    "print(cost)\n",
    "plt.plot(costs)"
   ]
  },
  {
   "cell_type": "code",
   "execution_count": 114,
   "id": "b5d75da5",
   "metadata": {},
   "outputs": [
    {
     "data": {
      "text/plain": [
       "5.8"
      ]
     },
     "execution_count": 114,
     "metadata": {},
     "output_type": "execute_result"
    }
   ],
   "source": [
    "w1_fixed"
   ]
  },
  {
   "cell_type": "code",
   "execution_count": 115,
   "id": "f3123778",
   "metadata": {},
   "outputs": [
    {
     "data": {
      "text/plain": [
       "2.1"
      ]
     },
     "execution_count": 115,
     "metadata": {},
     "output_type": "execute_result"
    }
   ],
   "source": [
    "w2_fixed"
   ]
  },
  {
   "cell_type": "code",
   "execution_count": 116,
   "id": "18f2e16b",
   "metadata": {},
   "outputs": [
    {
     "data": {
      "text/plain": [
       "5.60104245928924"
      ]
     },
     "execution_count": 116,
     "metadata": {},
     "output_type": "execute_result"
    }
   ],
   "source": [
    "w1"
   ]
  },
  {
   "cell_type": "code",
   "execution_count": 117,
   "id": "1b38f5a0",
   "metadata": {},
   "outputs": [
    {
     "data": {
      "text/plain": [
       "2.4288162177345254"
      ]
     },
     "execution_count": 117,
     "metadata": {},
     "output_type": "execute_result"
    }
   ],
   "source": [
    "w2"
   ]
  }
 ],
 "metadata": {
  "kernelspec": {
   "display_name": "base",
   "language": "python",
   "name": "python3"
  },
  "language_info": {
   "codemirror_mode": {
    "name": "ipython",
    "version": 3
   },
   "file_extension": ".py",
   "mimetype": "text/x-python",
   "name": "python",
   "nbconvert_exporter": "python",
   "pygments_lexer": "ipython3",
   "version": "3.12.7"
  }
 },
 "nbformat": 4,
 "nbformat_minor": 5
}
