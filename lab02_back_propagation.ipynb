{
 "cells": [
  {
   "cell_type": "code",
   "execution_count": 1,
   "id": "7dd87a38",
   "metadata": {},
   "outputs": [],
   "source": [
    "# LAB02 - AIDI2001\n",
    "# Candido Regis"
   ]
  },
  {
   "cell_type": "code",
   "execution_count": null,
   "id": "0d9d7821",
   "metadata": {},
   "outputs": [],
   "source": [
    "# Importing necessary libraries\n",
    "import numpy as np \n",
    "import matplotlib.pyplot as plt"
   ]
  },
  {
   "cell_type": "code",
   "execution_count": 34,
   "id": "411e606d",
   "metadata": {},
   "outputs": [],
   "source": [
    "# Creating a sample size\n",
    "sample_size = 20"
   ]
  },
  {
   "cell_type": "code",
   "execution_count": 35,
   "id": "5af1c89a",
   "metadata": {},
   "outputs": [],
   "source": [
    "# Generating random data\n",
    "nr_br = np.random.randint(1,10,sample_size)\n",
    "nr_wr = np.random.randint(1,6,sample_size)"
   ]
  },
  {
   "cell_type": "code",
   "execution_count": 36,
   "id": "3be27c2a",
   "metadata": {},
   "outputs": [
    {
     "data": {
      "text/plain": [
       "(array([9, 2, 2, 6, 5, 2, 1, 6, 2, 9, 5, 5, 3, 3, 3, 4, 5, 5, 2, 9]),\n",
       " array([2, 4, 1, 3, 1, 5, 3, 1, 2, 3, 1, 3, 5, 5, 1, 4, 1, 1, 3, 5]))"
      ]
     },
     "execution_count": 36,
     "metadata": {},
     "output_type": "execute_result"
    }
   ],
   "source": [
    "# Display the data for rooms and washrooms\n",
    "nr_br, nr_wr"
   ]
  },
  {
   "cell_type": "code",
   "execution_count": 37,
   "id": "d9c7655a",
   "metadata": {},
   "outputs": [],
   "source": [
    "# Determining the weights\n",
    "w1_fixed = 5.2\n",
    "w2_fixed = 3.8\n",
    "w3_fixed = 1.8"
   ]
  },
  {
   "cell_type": "code",
   "execution_count": null,
   "id": "8f084097",
   "metadata": {},
   "outputs": [],
   "source": [
    "# Generating random data for the price\n",
    "price = (w1_fixed * nr_br + w2_fixed * nr_wr) * w3_fixed"
   ]
  },
  {
   "cell_type": "code",
   "execution_count": 39,
   "id": "36a98cdc",
   "metadata": {},
   "outputs": [
    {
     "data": {
      "text/plain": [
       "array([ 97.92,  46.08,  25.56,  76.68,  53.64,  52.92,  29.88,  63.  ,\n",
       "        32.4 , 104.76,  53.64,  67.32,  62.28,  62.28,  34.92,  64.8 ,\n",
       "        53.64,  53.64,  39.24, 118.44])"
      ]
     },
     "execution_count": 39,
     "metadata": {},
     "output_type": "execute_result"
    }
   ],
   "source": [
    "# Display the data for the price\n",
    "price"
   ]
  },
  {
   "cell_type": "code",
   "execution_count": 40,
   "id": "015a9d7d",
   "metadata": {},
   "outputs": [],
   "source": [
    "# Generating a random initial weight \n",
    "w1 = 0.3\n",
    "w2 = -0.4\n",
    "w3 = 1.2"
   ]
  },
  {
   "cell_type": "code",
   "execution_count": 41,
   "id": "a9c21fcd",
   "metadata": {},
   "outputs": [],
   "source": [
    "# Learning rate\n",
    "LR = 0.001"
   ]
  },
  {
   "cell_type": "code",
   "execution_count": 42,
   "id": "036c987b",
   "metadata": {},
   "outputs": [],
   "source": [
    "#  Creating a list to store the costs\n",
    "costs = []"
   ]
  },
  {
   "cell_type": "code",
   "execution_count": null,
   "id": "4ac919e8",
   "metadata": {},
   "outputs": [
    {
     "data": {
      "text/plain": [
       "(2.9961732195887953, 1.4904063177609188, 3.429083617652531)"
      ]
     },
     "execution_count": 60,
     "metadata": {},
     "output_type": "execute_result"
    }
   ],
   "source": [
    "# Generating the function for the intermediate layer\n",
    "I = w1 * nr_br + w2 * nr_wr\n",
    "\n",
    "# Generating the \n",
    "y_hat = w3 * I\n",
    "\n",
    "# Gererating the cost function\n",
    "#cost = sum((price - y_hat)**2)/sample_size\n",
    "cost = np.mean((price - y_hat)**2)\n",
    "\n",
    "# Appending the cost to the list\n",
    "costs.append(cost)\n",
    "\n",
    "# Gerenating the Delta for the weights  \n",
    "delta_w3 = np.mean((price - y_hat) * (-I))\n",
    "delta_w2 = np.mean((price - y_hat) * (-w3 * nr_wr))\n",
    "delta_w1 = np.mean((price - y_hat) * (-w3 * nr_br))\n",
    "\n",
    "# Displaying the deltas\n",
    "delta_w1, delta_w2, delta_w3\n",
    "\n",
    "# Updating the weights\n",
    "w1 = w1 - LR * delta_w1\n",
    "w2 = w2 - LR * delta_w2\n",
    "w3 = w3 - LR * delta_w3\n",
    "\n",
    "# Displaying the weights\n",
    "w1, w2, w3\n"
   ]
  },
  {
   "cell_type": "code",
   "execution_count": 61,
   "id": "1def0757",
   "metadata": {},
   "outputs": [
    {
     "data": {
      "text/plain": [
       "[<matplotlib.lines.Line2D at 0x1170196d0>]"
      ]
     },
     "execution_count": 61,
     "metadata": {},
     "output_type": "execute_result"
    },
    {
     "data": {
      "image/png": "[encoded data removed]",
      "text/plain": [
       "<Figure size 640x480 with 1 Axes>"
      ]
     },
     "metadata": {},
     "output_type": "display_data"
    }
   ],
   "source": [
    "# Display the cost\n",
    "plt.plot(costs)"
   ]
  }
 ],
 "metadata": {
  "kernelspec": {
   "display_name": "base",
   "language": "python",
   "name": "python3"
  },
  "language_info": {
   "codemirror_mode": {
    "name": "ipython",
    "version": 3
   },
   "file_extension": ".py",
   "mimetype": "text/x-python",
   "name": "python",
   "nbconvert_exporter": "python",
   "pygments_lexer": "ipython3",
   "version": "3.12.7"
  }
 },
 "nbformat": 4,
 "nbformat_minor": 5
}
