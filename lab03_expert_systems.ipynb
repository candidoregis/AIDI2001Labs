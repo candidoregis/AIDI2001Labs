{
 "cells": [
  {
   "cell_type": "code",
   "execution_count": 1,
   "id": "0d9d7821",
   "metadata": {},
   "outputs": [],
   "source": [
    "# Importing necessary libraries\n",
    "import numpy as np \n",
    "import matplotlib.pyplot as plt"
   ]
  },
  {
   "cell_type": "code",
   "execution_count": 16,
   "id": "411e606d",
   "metadata": {},
   "outputs": [],
   "source": [
    "# Actions\n",
    "def off_ac(data):\n",
    "    print(f\"Current temperature is {data}, Turning off the AC...\")\n",
    "\n",
    "def on_ac(data):\n",
    "    print(f\"Current temperature is {data}, Turning on the AC...\")\n",
    "\n",
    "def do_nothing(data):\n",
    "    print(f\"Current temperature is {data}, Doing nothing on the AC...\")"
   ]
  },
  {
   "cell_type": "code",
   "execution_count": 4,
   "id": "5af1c89a",
   "metadata": {},
   "outputs": [],
   "source": [
    "# Conditions\n",
    "def is_cold(data):\n",
    "    return data < 10\n",
    "\n",
    "def is_warm(data):\n",
    "    return 10 <= data < 20\n",
    "\n",
    "def is_hot(data):\n",
    "    return data >= 20"
   ]
  },
  {
   "cell_type": "code",
   "execution_count": 7,
   "id": "3be27c2a",
   "metadata": {},
   "outputs": [],
   "source": [
    "# Rule set\n",
    "class Rule():\n",
    "    def __init__(self, name, condition, action):\n",
    "        self.name = name\n",
    "        self.condition = condition\n",
    "        self.action = action\n",
    "    \n",
    "    def check_condition(self, data):\n",
    "        return self.condition(data)\n",
    "    \n",
    "    def execute_action(self, data):\n",
    "        return self.action(data)"
   ]
  },
  {
   "cell_type": "code",
   "execution_count": 18,
   "id": "1207a036",
   "metadata": {},
   "outputs": [],
   "source": [
    "class RuleBook():\n",
    "    def __init__(self):\n",
    "        self.rules = []\n",
    "    \n",
    "    def add_rule(self, rule):\n",
    "        self.rules.append(rule)\n",
    "    \n",
    "    def engine(self, data):\n",
    "        for rule in self.rules:\n",
    "            if rule.check_condition(data):\n",
    "                rule.execute_action(data)\n",
    "                break  # Stop after the first matching rule"
   ]
  },
  {
   "cell_type": "code",
   "execution_count": 21,
   "id": "f84053ce",
   "metadata": {},
   "outputs": [],
   "source": [
    "# Rule instances\n",
    "cold_rule = Rule(\"Cold\", is_cold, off_ac)\n",
    "warm_rule = Rule(\"Warm\", is_warm, do_nothing)\n",
    "hot_rule = Rule(\"Hot\", is_hot, on_ac)"
   ]
  },
  {
   "cell_type": "code",
   "execution_count": 22,
   "id": "fdb8fd6a",
   "metadata": {},
   "outputs": [],
   "source": [
    "engine = RuleBook()\n",
    "engine.add_rule(cold_rule)\n",
    "engine.add_rule(warm_rule)\n",
    "engine.add_rule(hot_rule)"
   ]
  },
  {
   "cell_type": "code",
   "execution_count": 20,
   "id": "ee2c1ad8",
   "metadata": {},
   "outputs": [
    {
     "name": "stdout",
     "output_type": "stream",
     "text": [
      "Current temperature is 15, Turning off the AC...\n"
     ]
    }
   ],
   "source": [
    "cold_rule.check_condition(15)\n",
    "cold_rule.execute_action(15)"
   ]
  },
  {
   "cell_type": "code",
   "execution_count": 24,
   "id": "0688284a",
   "metadata": {},
   "outputs": [
    {
     "name": "stdout",
     "output_type": "stream",
     "text": [
      "Current temperature is 30, Turning on the AC...\n"
     ]
    }
   ],
   "source": [
    "engine.engine(30)  # Test with a temperature of 15"
   ]
  }
 ],
 "metadata": {
  "kernelspec": {
   "display_name": "base",
   "language": "python",
   "name": "python3"
  },
  "language_info": {
   "codemirror_mode": {
    "name": "ipython",
    "version": 3
   },
   "file_extension": ".py",
   "mimetype": "text/x-python",
   "name": "python",
   "nbconvert_exporter": "python",
   "pygments_lexer": "ipython3",
   "version": "3.12.7"
  }
 },
 "nbformat": 4,
 "nbformat_minor": 5
}
